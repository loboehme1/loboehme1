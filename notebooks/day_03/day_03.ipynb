{
 "cells": [
  {
   "cell_type": "markdown",
   "metadata": {},
   "source": [
    "# Differential expression analysis\n"
   ]
  },
  {
   "cell_type": "markdown",
   "metadata": {},
   "source": [
    "You have run the nf-core/rnaseq pipeline and checked the first quality control metrics of your fastq files. This was, however, only the primary analysis and we want to take it further.\n",
    "\n",
    "Due to the computational demand of the pipeline, you only ran the pipeline on two of the 16 samples in the study yesterday. We provide you an essential output of nf-core/rnaseq pipeline in the `data` folder: It contains the combined epression matrix as produced by Salmon, which provides transcript levels for each gene (rows) and each sample (columns).\n"
   ]
  },
  {
   "cell_type": "markdown",
   "metadata": {},
   "source": [
    "We would now like to understand exactly the difference between the expression in our groups of mice. \n",
    "Which pipeline would you use for this?"
   ]
  },
  {
   "cell_type": "markdown",
   "metadata": {},
   "source": [
    "DifferentialAbundance from nf-core"
   ]
  },
  {
   "cell_type": "markdown",
   "metadata": {},
   "source": [
    "Have a close look at the pipeline's \"Usage\" page on the [nf-core docs](nf-co.re). You will need to create a samplesheet (based on the column names in the provided matrix)."
   ]
  },
  {
   "cell_type": "code",
   "execution_count": 10,
   "metadata": {},
   "outputs": [],
   "source": [
    "#Sham_oxy_1\tSham_oxy_2\tSham_oxy_3\tSham_oxy_4\tSham_Sal_1\tSham_Sal_2\tSham_Sal_3\tSham_Sal_4\tSNI_oxy_1\tSNI_oxy_2\tSNI_oxy_3\tSNI_oxy_4\tSNI_Sal_1\tSNI_Sal_2\tSNI_Sal_3\tSNI_Sal_4\n",
    "\n",
    "import pandas as pd\n",
    "df = pd.read_csv(\"data/salmon.merged.gene_counts.tsv\", sep=\"\\t\", index_col=0)\n",
    "\n",
    "header = df.columns.drop('gene_name')\n",
    "\n",
    "conditions = []\n",
    "samples = []\n",
    "for i in range(len(header)):\n",
    "    condition = header[i][:-2]\n",
    "    conditions.append(condition)\n",
    "    samples.append(header[i])\n",
    "\n",
    "samplesheet = pd.DataFrame({\"sample\": samples, \"condition\": conditions})\n",
    "\n",
    "samplesheet.to_csv(\"data/samplesheet.csv\", sep=\",\", index=False)\n",
    "\n",
    "\n",
    "\n",
    "\n"
   ]
  },
  {
   "cell_type": "markdown",
   "metadata": {},
   "source": [
    "Please paste here the command you used. You may need to inspect the provided expression matrix more closely and create additional files, like a samplesheet (based on the column names) or a contrast file (there happens to also be one in `data/` that you can use)."
   ]
  },
  {
   "cell_type": "code",
   "execution_count": null,
   "metadata": {
    "vscode": {
     "languageId": "shellscript"
    }
   },
   "outputs": [],
   "source": [
    "nextflow run nf-core/differentialabundance \\\n",
    "    --input data/samplesheet.csv \\\n",
    "    --contrasts data/contrasts.csv \\ \n",
    "    --matrix data/salmon.merged.gene_counts.tsv \\\n",
    "    --outdir diff_abun_out \\\n",
    "    --genome GRCm38 \\\n",
    "    --max_memory '6.GB' \\\n",
    "    -profile rnaseq,docker \\\n",
    "    -r 1.5.0 \\\n",
    "    -resume"
   ]
  },
  {
   "cell_type": "markdown",
   "metadata": {
    "vscode": {
     "languageId": "shellscript"
    }
   },
   "source": [
    "Completed at: 01-Oct-2025 10:36:22\n",
    "\n",
    "Duration    : 10m 27s\n",
    "\n",
    "CPU hours   : 0.2\n",
    "\n",
    "Succeeded   : 13"
   ]
  },
  {
   "cell_type": "markdown",
   "metadata": {},
   "source": [
    "Explain all the parameters you set and why you set them in this way. If you used or created additional files as input, explain what they are used for."
   ]
  },
  {
   "cell_type": "markdown",
   "metadata": {},
   "source": [
    "--input data/samplesheet.csv: as a sample sheet is needed so the program can reference the contrast and matrix\n",
    "\n",
    "--contrasts data/contrasts.csv: specifies which comparisons you want to make for differential testing\n",
    "\n",
    "--matrix data/salmon.merged.gene_counts.tsv: output\n",
    "\n",
    "--outdir diff_abun_out: output folder\n",
    "\n",
    "--genome GRCm38: as we do not have a gtf file we need a reference genome\n",
    "\n",
    "--max_memory '6.GB': because my laptop sucks\n",
    "\n",
    "-profile rnaseq,docker: container so the pipeline runs on my laptop\n",
    "\n",
    "-r 1.5.0: as the pipeline is in resume to specify the version\n",
    "\n",
    "-resume"
   ]
  },
  {
   "cell_type": "markdown",
   "metadata": {},
   "source": [
    "What were the outputs of the pipeline?"
   ]
  },
  {
   "cell_type": "markdown",
   "metadata": {},
   "source": [
    "pipeline info, plots, a report and tables"
   ]
  },
  {
   "cell_type": "markdown",
   "metadata": {},
   "source": [
    "Would you exclude any samples? If yes, which and why?"
   ]
  },
  {
   "cell_type": "markdown",
   "metadata": {},
   "source": [
    "Yes, according to the multiQC report, Nac_Sal_3 and Nac_Sal_7 failed which means that they have a low quality and finidings might not be interpretable"
   ]
  },
  {
   "cell_type": "markdown",
   "metadata": {},
   "source": [
    "How many genes were differentially expressed in each contrast? Does this confirm what the paper mentions?"
   ]
  },
  {
   "cell_type": "markdown",
   "metadata": {},
   "source": [
    "control_treated_test: 7 (SNI_sal vs Sham_sal)\n",
    "\n",
    "control_treated: 18 (SIN_oxy vs Sham_oxy)"
   ]
  },
  {
   "cell_type": "markdown",
   "metadata": {},
   "source": [
    "The paper mentions differentially expressed genes in three brain regions : the NAc, mPFC and VTA. Briefly explain what these 3 regions are."
   ]
  },
  {
   "cell_type": "markdown",
   "metadata": {},
   "source": [
    "NAc (Nucleus Accumbens) is part of the ventral striatum, deep in the basal forebrain and is a central hub in the brain’s reward and motivation circuits. It integrates dopamine, glutamate, and GABA signals which is key for reinforcement learning and addiction.\n",
    "\n",
    "mPFC (medial Prefrontal Cortex) is located in the frontal lobe, along the midline. It is critical for executive functions: decision-making, cognitive control, working memory, and regulation of emotional responses. There is a strong top-down regulation of limbic and reward systems.\n",
    "\n",
    "VTA (Ventral Tegmental Area) is a midbrain structure containing dopaminergic neurons and a major source of dopamine projections to NAc and PFC. It governs reward prediction, motivation, and reinforcement."
   ]
  },
  {
   "cell_type": "markdown",
   "metadata": {},
   "source": [
    "Is there anyway from the paper and the material and methods for us to know which genes are included in these regions?"
   ]
  },
  {
   "cell_type": "markdown",
   "metadata": {},
   "source": [
    "I have not found any specific genes associated with these regions"
   ]
  },
  {
   "cell_type": "markdown",
   "metadata": {},
   "source": [
    "Once you have your list of differentially expressed genes, do you think just communicating those to the biologists would be sufficient? What does the publication state?"
   ]
  },
  {
   "cell_type": "markdown",
   "metadata": {},
   "source": [
    "In the paper they give additional pathway analysis and region specific information as well as cell type deconvolution. This enriches the raw data for it to be more interpretable."
   ]
  },
  {
   "cell_type": "markdown",
   "metadata": {},
   "source": [
    "Please reproduce the Venn Diagram from Figure 3, not taking into account the brain regions but just the contrasts mentionned."
   ]
  },
  {
   "cell_type": "code",
   "execution_count": 22,
   "metadata": {},
   "outputs": [],
   "source": [
    "shamoxy = pd.read_csv(\"diff_abun_out_sham/tables/differential/condition_Shamsal_Shamoxy.deseq2.results_filtered.tsv\", sep=\"\\t\", index_col=0)\n",
    "snioxy = pd.read_csv(\"diff_abun_out_sham/tables/differential/condition_Shamsal_SNIoxy.deseq2.results_filtered.tsv\", sep=\"\\t\", index_col=0)\n",
    "snisal = pd.read_csv(\"diff_abun_out_sham/tables/differential/condition_Shamsal_SNIsal.deseq2.results_filtered.tsv\", sep=\"\\t\", index_col=0)\n",
    "\n",
    "shamoxy_genes = set(shamoxy.index.tolist())\n",
    "snioxy_genes = set(snioxy.index.tolist())\n",
    "snisal_genes = set(snisal.index.tolist())\n"
   ]
  },
  {
   "cell_type": "code",
   "execution_count": 23,
   "metadata": {},
   "outputs": [
    {
     "name": "stderr",
     "output_type": "stream",
     "text": [
      "/home/lorena/miniconda3/envs/workflows/lib/python3.13/site-packages/matplotlib_venn/layout/venn3/pairwise.py:169: UserWarning: Bad circle positioning.\n",
      "  warnings.warn(\"Bad circle positioning.\")\n"
     ]
    },
    {
     "data": {
      "image/png": "[encoded data removed]",
      "text/plain": [
       "<Figure size 640x480 with 1 Axes>"
      ]
     },
     "metadata": {},
     "output_type": "display_data"
    }
   ],
   "source": [
    "import matplotlib_venn as venn\n",
    "import matplotlib.pyplot as plt\n",
    "\n",
    "venn.venn3([shamoxy_genes, snioxy_genes, snisal_genes], ('Sham Oxy', 'SNI Oxy', 'SNI Sal'))\n",
    "plt.show()\n"
   ]
  }
 ],
 "metadata": {
  "kernelspec": {
   "display_name": "workflows",
   "language": "python",
   "name": "python3"
  },
  "language_info": {
   "codemirror_mode": {
    "name": "ipython",
    "version": 3
   },
   "file_extension": ".py",
   "mimetype": "text/x-python",
   "name": "python",
   "nbconvert_exporter": "python",
   "pygments_lexer": "ipython3",
   "version": "3.13.7"
  }
 },
 "nbformat": 4,
 "nbformat_minor": 2
}
